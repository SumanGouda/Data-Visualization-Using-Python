{
 "cells": [
  {
   "cell_type": "code",
   "execution_count": 1,
   "id": "2401fc46",
   "metadata": {},
   "outputs": [
    {
     "data": {
      "application/vnd.jupyter.widget-view+json": {
       "model_id": "4591814b78ad4cd586a1a44ce7ee10cf",
       "version_major": 2,
       "version_minor": 0
      },
      "text/plain": [
       "interactive(children=(Dropdown(description='Function:', options=('Sine', 'Cosine'), value='Sine'), Output()), …"
      ]
     },
     "metadata": {},
     "output_type": "display_data"
    },
    {
     "data": {
      "text/plain": [
       "<function __main__.plot_graph(choice)>"
      ]
     },
     "execution_count": 1,
     "metadata": {},
     "output_type": "execute_result"
    }
   ],
   "source": [
    "import matplotlib.pyplot as plt\n",
    "import numpy as np\n",
    "import ipywidgets as widgets\n",
    "from IPython.display import display\n",
    "\n",
    "# Data\n",
    "x = np.linspace(0, 10, 100)\n",
    "y1 = np.sin(x)\n",
    "y2 = np.cos(x)\n",
    "\n",
    "# Function to update plot\n",
    "def plot_graph(choice):\n",
    "    plt.figure(figsize=(6, 4))\n",
    "    if choice == 'Sine':\n",
    "        plt.plot(x, y1, label='Sine')\n",
    "    else:\n",
    "        plt.plot(x, y2, label='Cosine', color='orange')\n",
    "    plt.legend()\n",
    "    plt.title(f\"{choice} Wave\")\n",
    "    plt.grid(True)\n",
    "    plt.show()\n",
    "\n",
    "# Dropdown widget\n",
    "dropdown = widgets.Dropdown(options=['Sine', 'Cosine'], description='Function:')\n",
    "widgets.interact(plot_graph, choice=dropdown)\n"
   ]
  },
  {
   "cell_type": "code",
   "execution_count": 3,
   "id": "5f8e15c8",
   "metadata": {},
   "outputs": [],
   "source": [
    "import streamlit as st\n",
    "import plotly.express as px\n",
    "import pandas as pd \n",
    "import os\n",
    "import warnings\n",
    "warnings.filterwarnings('ignore')"
   ]
  },
  {
   "cell_type": "code",
   "execution_count": 6,
   "id": "56d0eea0",
   "metadata": {},
   "outputs": [
    {
     "name": "stderr",
     "output_type": "stream",
     "text": [
      "2025-06-27 22:32:46.253 Thread 'MainThread': missing ScriptRunContext! This warning can be ignored when running in bare mode.\n",
      "2025-06-27 22:32:46.255 Thread 'MainThread': missing ScriptRunContext! This warning can be ignored when running in bare mode.\n",
      "2025-06-27 22:32:46.256 Thread 'MainThread': missing ScriptRunContext! This warning can be ignored when running in bare mode.\n",
      "2025-06-27 22:32:46.257 Thread 'MainThread': missing ScriptRunContext! This warning can be ignored when running in bare mode.\n",
      "2025-06-27 22:32:46.261 Thread 'MainThread': missing ScriptRunContext! This warning can be ignored when running in bare mode.\n",
      "2025-06-27 22:32:46.266 Thread 'MainThread': missing ScriptRunContext! This warning can be ignored when running in bare mode.\n",
      "2025-06-27 22:32:46.269 Thread 'MainThread': missing ScriptRunContext! This warning can be ignored when running in bare mode.\n",
      "2025-06-27 22:32:46.280 Thread 'MainThread': missing ScriptRunContext! This warning can be ignored when running in bare mode.\n",
      "2025-06-27 22:32:46.281 Thread 'MainThread': missing ScriptRunContext! This warning can be ignored when running in bare mode.\n",
      "2025-06-27 22:32:46.282 Thread 'MainThread': missing ScriptRunContext! This warning can be ignored when running in bare mode.\n"
     ]
    }
   ],
   "source": [
    "\n",
    "st.set_page_config(page_title=\"Netflix Data Analysis\", page_icon=\":chart_with_upwards_trend:\", layout=\"wide\")\n",
    "\n",
    "st.title(\"Netflix Data Analysis\")\n",
    "\n",
    "file = st.file_uploader(\":file_folder: Upload your file\", type=[\"csv\",\"txt\",\"xlsx\",\"xls\",\"json\"])\n",
    "\n",
    "if file is not None:\n",
    "    try:\n",
    "        file_details = {\"FileName\":file.name,\"FileType\":file.type,\"FileSize\":file.size}\n",
    "        st.write(file_details)\n",
    "        df = pd.read_csv(file)\n",
    "    except Exception as e:\n",
    "        st.error(f\"Error uploading file: {e}\")\n",
    "        \n",
    "else:\n",
    "    os.chdir(r\"D:\\PYTON PROGRAMMING\\PYTHON FILES\\Data-Visualization-Using-Python\\STREAMLIT\\Notebook\\DATA\")\n",
    "    df =pd.read_csv(r\"D:\\PYTON PROGRAMMING\\PYTHON FILES\\Data-Visualization-Using-Python\\STREAMLIT\\Notebook\\DATA\\netflix_titles.csv\")"
   ]
  },
  {
   "cell_type": "code",
   "execution_count": null,
   "id": "a276ea3a",
   "metadata": {},
   "outputs": [],
   "source": []
  }
 ],
 "metadata": {
  "kernelspec": {
   "display_name": "Python 3",
   "language": "python",
   "name": "python3"
  },
  "language_info": {
   "codemirror_mode": {
    "name": "ipython",
    "version": 3
   },
   "file_extension": ".py",
   "mimetype": "text/x-python",
   "name": "python",
   "nbconvert_exporter": "python",
   "pygments_lexer": "ipython3",
   "version": "3.11.9"
  }
 },
 "nbformat": 4,
 "nbformat_minor": 5
}
