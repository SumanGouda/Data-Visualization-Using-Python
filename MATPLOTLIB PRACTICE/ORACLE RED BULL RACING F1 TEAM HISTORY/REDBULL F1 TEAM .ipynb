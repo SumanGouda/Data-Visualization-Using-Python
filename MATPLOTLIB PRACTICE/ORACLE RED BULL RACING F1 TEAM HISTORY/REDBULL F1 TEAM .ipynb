{
 "cells": [
  {
   "cell_type": "markdown",
   "id": "0d28391a",
   "metadata": {},
   "source": [
    "# ORACLE REDBULL RACING "
   ]
  },
  {
   "cell_type": "code",
   "execution_count": 1,
   "id": "2de15a80",
   "metadata": {},
   "outputs": [],
   "source": [
    "import pandas as pd\n",
    "import matplotlib.pyplot as plt"
   ]
  },
  {
   "cell_type": "code",
   "execution_count": 70,
   "id": "f3d47bca",
   "metadata": {},
   "outputs": [],
   "source": [
    "df = pd.read_csv(r\"D:\\PYTON PROGRAMMING\\PYTHON FILES\\MATPLOTLIB\\MATPLOTLIB PRACTICE\\ORACLE RED BULL RACING F1 TEAM HISTORY\\REDBULL ORACLE RACING .csv\")"
   ]
  },
  {
   "cell_type": "markdown",
   "id": "c8d7f08f",
   "metadata": {},
   "source": [
    "--> Make a column of total points scored by each driver."
   ]
  },
  {
   "cell_type": "code",
   "execution_count": 73,
   "id": "14b2a705",
   "metadata": {},
   "outputs": [],
   "source": [
    "gp_columns = [col for col in df.columns if col.startswith('GP')]\n",
    "df['Total-Points'] = df[gp_columns].sum(axis=1, skipna=True)"
   ]
  },
  {
   "cell_type": "markdown",
   "id": "a24cb9d4",
   "metadata": {},
   "source": [
    "### Point Scored by each driver for Red Bull F1 team "
   ]
  },
  {
   "cell_type": "code",
   "execution_count": null,
   "id": "66f20705",
   "metadata": {},
   "outputs": [],
   "source": [
    "x = df['DRIVER'].unique()\n",
    "y = df.groupby('DRIVER')['Total-Points'].sum().loc[x]\n",
    "\n",
    "plt.figure(figsize=(40,25),facecolor='black')\n",
    "\n",
    "ax = plt.gca()\n",
    "ax.tick_params(axis='both', colors='white')     # Change axis coordinate color\n",
    "ax.set_facecolor('black')\n",
    "\n",
    "bar_width = 0.4\n",
    "bars = plt.bar(\n",
    "    x,y,\n",
    "    width = bar_width,\n",
    "    color = '#CC1E4A',\n",
    ")\n",
    "for bar in bars:\n",
    "    height = bar.get_height()\n",
    "    ax.text(\n",
    "        bar.get_x() + bar.get_width() / 2,\n",
    "        height + 10,                  # Add vertical spacing\n",
    "        f'{height:.1f}',             # One decimal place\n",
    "        ha='center',\n",
    "        va='bottom',\n",
    "        fontsize=25,\n",
    "        color='white',               # Stand out from dark background\n",
    "        rotation=0\n",
    "    )\n",
    "\n",
    "\n",
    "\n",
    "plt.xticks(x, rotation = 45, fontsize=30)\n",
    "plt.yticks(range(0,3200,200), fontsize = 30)\n",
    "plt.grid(True, alpha = 0.3)\n",
    "plt.tight_layout()\n",
    "plt.show()"
   ]
  }
 ],
 "metadata": {
  "kernelspec": {
   "display_name": "Python 3",
   "language": "python",
   "name": "python3"
  },
  "language_info": {
   "codemirror_mode": {
    "name": "ipython",
    "version": 3
   },
   "file_extension": ".py",
   "mimetype": "text/x-python",
   "name": "python",
   "nbconvert_exporter": "python",
   "pygments_lexer": "ipython3",
   "version": "3.11.9"
  }
 },
 "nbformat": 4,
 "nbformat_minor": 5
}
