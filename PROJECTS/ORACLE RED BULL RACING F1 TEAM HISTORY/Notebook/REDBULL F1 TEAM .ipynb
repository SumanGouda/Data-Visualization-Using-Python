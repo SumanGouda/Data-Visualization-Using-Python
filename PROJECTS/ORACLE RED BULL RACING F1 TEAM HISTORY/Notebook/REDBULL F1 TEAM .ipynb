{
 "cells": [
  {
   "cell_type": "markdown",
   "id": "0d28391a",
   "metadata": {},
   "source": [
    "# ORACLE REDBULL RACING "
   ]
  },
  {
   "cell_type": "code",
   "execution_count": 24,
   "id": "2de15a80",
   "metadata": {},
   "outputs": [],
   "source": [
    "import pandas as pd\n",
    "import matplotlib.pyplot as plt\n",
    "import matplotlib.image as mpimg"
   ]
  },
  {
   "cell_type": "code",
   "execution_count": 25,
   "id": "f3d47bca",
   "metadata": {},
   "outputs": [],
   "source": [
    "df = pd.read_csv(r\"D:\\PYTON PROGRAMMING\\PYTHON FILES\\MATPLOTLIB\\PROJECTS\\ORACLE RED BULL RACING F1 TEAM HISTORY\\REDBULL ORACLE RACING .csv\")"
   ]
  },
  {
   "cell_type": "markdown",
   "id": "c8d7f08f",
   "metadata": {},
   "source": [
    "--> Make a column of total points scored by each driver."
   ]
  },
  {
   "cell_type": "code",
   "execution_count": 26,
   "id": "14b2a705",
   "metadata": {},
   "outputs": [],
   "source": [
    "gp_columns = [col for col in df.columns if col.startswith('GP')]\n",
    "df['Total-Points'] = df[gp_columns].sum(axis=1, skipna=True)"
   ]
  },
  {
   "cell_type": "markdown",
   "id": "a24cb9d4",
   "metadata": {},
   "source": [
    "### Point Scored by each driver for Red Bull F1 team "
   ]
  },
  {
   "cell_type": "code",
   "execution_count": null,
   "id": "66f20705",
   "metadata": {},
   "outputs": [],
   "source": [
    "x = df['DRIVER'].unique()\n",
    "y = df.groupby('DRIVER')['Total-Points'].sum().loc[x]\n",
    "\n",
    "plt.figure(figsize=(40,25),facecolor='black')\n",
    "\n",
    "ax = plt.gca()\n",
    "ax.tick_params(axis='both', colors='white')     # Change axis coordinate color\n",
    "ax.set_facecolor('black')\n",
    "\n",
    "bar_width = 0.4\n",
    "bars = plt.bar(\n",
    "    x,y,\n",
    "    width = bar_width,\n",
    "    color = '#CC1E4A',\n",
    ")\n",
    "for bar in bars:\n",
    "    height = bar.get_height()\n",
    "    ax.text(\n",
    "        bar.get_x() + bar.get_width() / 2,\n",
    "        height + 10,                  # Add vertical spacing\n",
    "        f'{height:.1f}',             # One decimal place\n",
    "        ha='center',\n",
    "        va='bottom',\n",
    "        fontsize=25,\n",
    "        color='white',               # Stand out from dark background\n",
    "        rotation=0\n",
    "    )\n",
    "\n",
    "\n",
    "\n",
    "plt.xticks(x, rotation = 45, fontsize=30)\n",
    "plt.yticks(range(0,3200,200), fontsize = 30)\n",
    "plt.grid(True, alpha = 0.3)\n",
    "plt.tight_layout()\n",
    "plt.show()"
   ]
  },
  {
   "cell_type": "markdown",
   "id": "d6189876",
   "metadata": {},
   "source": [
    "### Pie Chart "
   ]
  },
  {
   "cell_type": "code",
   "execution_count": null,
   "id": "357c9fe7",
   "metadata": {},
   "outputs": [],
   "source": [
    "fig, ax = plt.subplots(figsize = (10,6))\n",
    "\n",
    "fig.patch.set_facecolor('black')\n",
    "ax.set_facecolor('black')\n",
    "\n",
    "labels = df['DRIVER'].unique()\n",
    "size = df.groupby('DRIVER')['Total-Points'].sum().astype(int).loc[labels]\n",
    "\n",
    "def custom_autopct(pct):\n",
    "    return f'{pct:.1f}%' if pct > 0.5 else ''\n",
    "\n",
    "explode = [0.25] * len(size)\n",
    "\n",
    "colors = ['#FF69B4', '#33CC33', '#6666CC', '#CC3333', '#FFFF66', \"#3C7E39\", \n",
    "          \"#9D0593\", \"#C1EEC1\", \"#0F8893\", \"#C37500\", \"#8A0027\", \"#FFBFFF\"]\n",
    "\n",
    "wedges, texts, autotexts = ax.pie(\n",
    "    size,\n",
    "    startangle = 90,\n",
    "    colors = colors,\n",
    "    explode = explode,\n",
    "    autopct = custom_autopct,\n",
    "    labeldistance = 1.05,\n",
    "    pctdistance = 0.75,\n",
    "    textprops={'fontsize': 9, 'bbox': dict(facecolor='white', edgecolor='red', boxstyle='round,pad=0.3')}\n",
    ")\n",
    "for wedge in wedges:\n",
    "    wedge.set_alpha(0.6)\n",
    "    \n",
    "ax.legend(labels, loc='upper right', bbox_to_anchor=(1.3, 1))\n",
    "\n",
    "# Backgorund image \n",
    "img = mpimg.imread(r\"C:\\Users\\LENOVO\\Downloads\\826139-1920x1080-desktop-full-hd-oracle-red-bull-racing-wallpaper.jpg\")\n",
    "#img = img.resize((800, 600))\n",
    "ax.imshow(img, alpha=0.5, extent=[-2, 2, -1.5, 1.5], aspect='auto', zorder=0)\n",
    "\n",
    "plt.show()\n"
   ]
  },
  {
   "cell_type": "markdown",
   "id": "8ebfbc2c",
   "metadata": {},
   "source": []
  }
 ],
 "metadata": {
  "kernelspec": {
   "display_name": "Python 3",
   "language": "python",
   "name": "python3"
  },
  "language_info": {
   "codemirror_mode": {
    "name": "ipython",
    "version": 3
   },
   "file_extension": ".py",
   "mimetype": "text/x-python",
   "name": "python",
   "nbconvert_exporter": "python",
   "pygments_lexer": "ipython3",
   "version": "3.11.9"
  }
 },
 "nbformat": 4,
 "nbformat_minor": 5
}
