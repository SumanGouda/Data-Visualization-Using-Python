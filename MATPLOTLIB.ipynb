{
 "cells": [
  {
   "cell_type": "markdown",
   "id": "65662295",
   "metadata": {},
   "source": [
    "##  What is data visualization ?"
   ]
  },
  {
   "cell_type": "markdown",
   "id": "d04892a2",
   "metadata": {},
   "source": [
    "> 1. It is a graphical representaion of information and data. \n",
    ">\n",
    "> 2. Visual elements like charts, graphs and maps , data visulaization tools provides an accessible way to see and understand trends, outiers and patterns in data. "
   ]
  },
  {
   "cell_type": "markdown",
   "id": "ec604af6",
   "metadata": {},
   "source": [
    "### Matplotlib :"
   ]
  },
  {
   "cell_type": "markdown",
   "id": "172503e2",
   "metadata": {},
   "source": [
    "> Matplotlib is a comprehensive 2D & 3D plotting library for the Python programming language. It is widely used for creating static, animated, and interactive visualizations in Python"
   ]
  },
  {
   "cell_type": "markdown",
   "id": "dd17b88f",
   "metadata": {},
   "source": [
    "### Types of plots in MATPLOTLIB:"
   ]
  },
  {
   "cell_type": "code",
   "execution_count": 3,
   "id": "daa64234",
   "metadata": {},
   "outputs": [],
   "source": [
    "import matplotlib.pyplot as plt\n",
    "import numpy as np \n",
    "import pandas as pd"
   ]
  },
  {
   "cell_type": "markdown",
   "id": "e5f4b268",
   "metadata": {},
   "source": [
    "### Bar Plot :"
   ]
  },
  {
   "cell_type": "code",
   "execution_count": null,
   "id": "dd2ca1a6",
   "metadata": {},
   "outputs": [],
   "source": [
    "x = ['python','C' , 'C++', 'java']\n",
    "y = [85, 70, 63, 82]    # Popularity\n",
    "\n",
    "col = [\"#FCE63F\",\"#3F0DE5\",\"#6DC4FF\",\"#271849\"]\n",
    "\n",
    "plt.xlabel(\"Language\",fontsize = 15)\n",
    "plt.ylabel(\"Popularity\",fontsize = 15)\n",
    "plt.title(\"SUM\",fontsize = 15)\n",
    "\n",
    "plt.bar(x,y,width=0.4,color=col,edgecolor = \"#8BFC9A\",linewidth = 3, alpha = 0.9)\n",
    "plt.show()"
   ]
  },
  {
   "cell_type": "markdown",
   "id": "d99afa5d",
   "metadata": {},
   "source": [
    "### Scater Plot:"
   ]
  },
  {
   "cell_type": "code",
   "execution_count": null,
   "id": "494fd19d",
   "metadata": {},
   "outputs": [],
   "source": [
    "import matplotlib.pyplot as plt\n",
    "\n",
    "x = [1,2,3,4,5,6,7]\n",
    "y = [2,4,5,1,4,3,6]\n",
    "\n",
    "colors = ['r','y','g','b','r','y','b']\n",
    "sizes = [500,400,550,600,700,550,400]\n",
    "\n",
    "plt.scatter(\n",
    "    x,y, \n",
    "    color=colors, \n",
    "    s=sizes, \n",
    "    alpha=0.7, \n",
    "    marker=\"*\", \n",
    "    edgecolors='#000000', \n",
    "    linewidths=2.5\n",
    ")    \n",
    "plt.title(\"Scatter Plot\", fontsize=20)   # Title of the Scatter graph.\n",
    "plt.xlabel(\"Day\", fontsize=10)\n",
    "plt.ylabel(\"Number\", fontsize=10)   # Creates the y lebel\n",
    "\n",
    "plt.show()"
   ]
  },
  {
   "cell_type": "markdown",
   "id": "24853ba4",
   "metadata": {},
   "source": [
    "--> Use of cmap color coding"
   ]
  },
  {
   "cell_type": "code",
   "execution_count": null,
   "id": "de4098b6",
   "metadata": {},
   "outputs": [],
   "source": [
    "import matplotlib.pyplot as plt\n",
    "\n",
    "x = [1, 2, 3, 4, 5, 6, 7]\n",
    "y = [2, 4, 5, 1, 4, 3, 6]\n",
    "\n",
    "colors = [10, 49, 30, 29, 56, 20, 30]  # Numeric values for colormap\n",
    "sizes = [500, 400, 550, 600, 700, 550, 400]\n",
    "\n",
    "plt.scatter(\n",
    "    x, y,\n",
    "    c=colors,          # Use 'c' for numeric color mapping (not 'color')\n",
    "    s=sizes,           # Determines the size of the element\n",
    "    alpha=0.7,         # Determines the transperancy\n",
    "    marker=\"*\",\n",
    "    cmap=\"viridis\",    # Colormap maps 'colors' to a color gradient      (There are different names for different color sets in cmap)\n",
    "    edgecolors='#000000',\n",
    "    linewidths=2.5     # Thickness of th edge\n",
    ")\n",
    "\n",
    "plt.colorbar(label=\"Color Scale\")  # Adds color bar with a label\n",
    "plt.title(\"Scatter Plot\", fontsize=20)\n",
    "plt.xlabel(\"Day\", fontsize=10)\n",
    "plt.ylabel(\"Number\", fontsize=10)\n",
    "\n",
    "plt.show()      # This shows the graph at the screen"
   ]
  },
  {
   "cell_type": "markdown",
   "id": "6f272124",
   "metadata": {},
   "source": [
    "### Bar Plot :"
   ]
  },
  {
   "cell_type": "code",
   "execution_count": null,
   "id": "d3b2347b",
   "metadata": {},
   "outputs": [],
   "source": [
    "x = ['python','C' , 'C++', 'java']\n",
    "y = [85, 70, 63, 82]    # Popularity\n",
    "z = [29, 30, 28, 18]\n",
    "\n",
    "col = [\"#FCE63F\",\"#3F0DE5\",\"#6DC4FF\",\"#271849\"]\n",
    "\n",
    "plt.xlabel(\"Language\",fontsize = 15)\n",
    "plt.ylabel(\"Popularity\",fontsize = 15)\n",
    "plt.title(\"SUM\",fontsize = 15)\n",
    "\n",
    "plt.bar(x,y,width=0.2,color=col,edgecolor = \"#FF9C1B\", label = 'SUM')\n",
    "plt.bar(x,z,width=0.2,color='r',edgecolor = \"#FF9C1B\", label = 'SUM1')\n",
    "\n",
    "plt.legend(labelcolor=\"green\")\n",
    "plt.show()"
   ]
  },
  {
   "cell_type": "markdown",
   "id": "8e652cce",
   "metadata": {},
   "source": [
    "## Histogram Plot"
   ]
  },
  {
   "cell_type": "code",
   "execution_count": 1,
   "id": "1fcc141d",
   "metadata": {},
   "outputs": [
    {
     "ename": "NameError",
     "evalue": "name 'np' is not defined",
     "output_type": "error",
     "traceback": [
      "\u001b[31m---------------------------------------------------------------------------\u001b[39m",
      "\u001b[31mNameError\u001b[39m                                 Traceback (most recent call last)",
      "\u001b[36mCell\u001b[39m\u001b[36m \u001b[39m\u001b[32mIn[1]\u001b[39m\u001b[32m, line 3\u001b[39m\n\u001b[32m      1\u001b[39m \u001b[38;5;28;01mimport\u001b[39;00m\u001b[38;5;250m \u001b[39m\u001b[34;01mrandom\u001b[39;00m \n\u001b[32m----> \u001b[39m\u001b[32m3\u001b[39m \u001b[43mnp\u001b[49m.random.seed(\u001b[32m10\u001b[39m)\n\u001b[32m      4\u001b[39m random_int_arr = np.random.randint(\u001b[32m0\u001b[39m,\u001b[32m60\u001b[39m,\u001b[32m50\u001b[39m)\n\u001b[32m      5\u001b[39m random_int_lst = random_int_arr.tolist()\n",
      "\u001b[31mNameError\u001b[39m: name 'np' is not defined"
     ]
    }
   ],
   "source": [
    "import random \n",
    "\n",
    "np.random.seed(10)\n",
    "random_int_arr = np.random.randint(0,60,50)\n",
    "random_int_lst = random_int_arr.tolist()\n",
    "\n",
    "l = (np.arange(0,60,5)).tolist()\n",
    "plt.hist(random_int_lst, bins=l, color='g', edgecolor='#000000')\n",
    "\n",
    "plt.title(\"SUM\")\n",
    "plt.xlabel('No.')\n",
    "plt.ylabel('Python')\n",
    "\n",
    "plt.show()"
   ]
  },
  {
   "cell_type": "code",
   "execution_count": null,
   "id": "22d4721e",
   "metadata": {},
   "outputs": [],
   "source": []
  },
  {
   "cell_type": "markdown",
   "id": "f4bd6c24",
   "metadata": {},
   "source": []
  }
 ],
 "metadata": {
  "kernelspec": {
   "display_name": "Python 3",
   "language": "python",
   "name": "python3"
  },
  "language_info": {
   "codemirror_mode": {
    "name": "ipython",
    "version": 3
   },
   "file_extension": ".py",
   "mimetype": "text/x-python",
   "name": "python",
   "nbconvert_exporter": "python",
   "pygments_lexer": "ipython3",
   "version": "3.11.9"
  }
 },
 "nbformat": 4,
 "nbformat_minor": 5
}
