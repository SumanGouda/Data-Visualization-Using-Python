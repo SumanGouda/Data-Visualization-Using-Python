{
 "cells": [
  {
   "cell_type": "code",
   "execution_count": 1,
   "id": "73112f26",
   "metadata": {},
   "outputs": [],
   "source": [
    "import matplotlib.pyplot as plt\n",
    "import numpy as np\n",
    "import pandas as pd"
   ]
  },
  {
   "cell_type": "markdown",
   "id": "cd29b8f0",
   "metadata": {},
   "source": [
    "# Day 1 – Line Plot Basics\n",
    "Learn how to create simple line plots using matplotlib."
   ]
  },
  {
   "cell_type": "code",
   "execution_count": null,
   "id": "904ae532",
   "metadata": {},
   "outputs": [],
   "source": [
    "import matplotlib.pyplot as plt\n",
    "\n",
    "# Sample line plot\n",
    "x = [1, 2, 3, 4]\n",
    "y = [10, 20, 25, 30]\n",
    "\n",
    "plt.plot(x, y)\n",
    "plt.title(\"Simple Line Plot\")\n",
    "plt.xlabel(\"X Axis\")\n",
    "plt.ylabel(\"Y Axis\")\n",
    "plt.grid(True)\n",
    "plt.show()"
   ]
  },
  {
   "cell_type": "markdown",
   "id": "4f8dc68a",
   "metadata": {},
   "source": [
    "**Task:** Plot temperature vs days using your own data.\n",
    "```python\n",
    "# Your code here\n",
    "```"
   ]
  },
  {
   "cell_type": "markdown",
   "id": "20d316f1",
   "metadata": {},
   "source": [
    "###  1. Temerature ananlysis between Queenstown and Montreal"
   ]
  },
  {
   "cell_type": "code",
   "execution_count": null,
   "id": "4ad01e2c",
   "metadata": {},
   "outputs": [],
   "source": [
    "avg_temps_montreal = [\n",
    "    15.2, 16.1, 14.8, 17.3, 18.5, 20.1, 19.7, 16.4, 15.9, 14.2,\n",
    "    13.8, 16.0, 18.3, 19.5, 21.0, 20.7, 18.9, 17.5, 16.8, 15.3,\n",
    "    14.7, 16.2, 18.0, 19.2, 20.5, 22.1, 21.4, 19.8, 18.6, 17.3, 16.0\n",
    "]\n",
    " \n",
    "avg_temps_queenstown = [\n",
    "    10.2, 9.5, 8.1, 7.8, 6.4, 9.0, 11.3, 10.7, 8.5, 7.2,\n",
    "    6.9, 8.3, 10.1, 9.7, 5.8, 4.9, 7.3, 8.6, 9.4, 10.0,\n",
    "    6.7, 5.5, 7.8, 9.2, 11.5, 10.8, 8.3, 7.1, 6.5, 8.9, 10.4\n",
    "]\n",
    "may_days = np.arange(1,32) \n",
    "\n",
    "montreal_rainfall = [\n",
    "    5, 0, 8, 12, 3, 0, 0, 4, 7, 10,\n",
    "    15, 6, 2, 0, 0, 8, 12, 5, 3, 0,\n",
    "    0, 9, 11, 4, 0, 0, 6, 14, 7, 2, 0\n",
    "]\n",
    "\n",
    "queenstown_rainfall = [\n",
    "    12, 18, 6, 22, 8, 15, 10, 5, 20, 14,\n",
    "    9, 25, 11, 7, 16, 13, 8, 19, 10, 4,\n",
    "    17, 21, 8, 12, 5, 9, 23, 14, 6, 11, 8\n",
    "]\n",
    "plt.figure(figsize=(5,4))\n",
    "\n",
    "plt.plot(\n",
    "    may_days, avg_temps_montreal, \n",
    "    marker='o',   \n",
    "    color='red',\n",
    "    label='Montreal Temp (°C)'   \n",
    ")\n",
    "\n",
    "plt.plot(\n",
    "    may_days, avg_temps_queenstown, \n",
    "    marker='o',   \n",
    "    color='blue',\n",
    "    label='Queenstown Temp (°C)'   \n",
    ")\n",
    "bar_width = 0.30\n",
    "\n",
    "plt.bar(\n",
    "    may_days + bar_width/2, montreal_rainfall,\n",
    "    width=0.3,\n",
    "    alpha=0.3, \n",
    "    label='Montreal Rain',\n",
    "    color = 'red'\n",
    ")\n",
    "\n",
    "plt.bar(\n",
    "    may_days - bar_width/2, queenstown_rainfall,\n",
    "    width=0.3,\n",
    "    alpha=0.3, \n",
    "    label='Queenstown Rain',\n",
    "    color = 'blue'\n",
    ")\n",
    "        \n",
    "\n",
    "plt.title(\"Month May Weather Comparision\", fontsize=20)\n",
    "plt.xlabel('Days', fontsize=18)\n",
    "plt.ylabel('Temperature (°C) & Rainfall (mm)', fontsize=18)\n",
    "plt.ylim(0, 30)\n",
    "\n",
    "plt.grid(True, alpha = 0.4)\n",
    "plt.xticks(may_days, fontsize=15)        # explicitly sets the locations\n",
    "plt.yticks(fontsize=15)\n",
    "plt.tight_layout()          # automatically adjusts the spacing between subplots, labels, titles, and other elements to prevent overlap and improve readability.\n",
    "plt.subplots_adjust(\n",
    "    right=4.5,                # Adjust the canvas\n",
    "    top=2.5,\n",
    "    bottom=1\n",
    ")\n",
    "\n",
    "plt.legend(labelcolor=[\"red\",'blue'],fontsize=16)\n",
    "plt.show()"
   ]
  },
  {
   "cell_type": "markdown",
   "id": "7dce9cb1",
   "metadata": {},
   "source": [
    "### 2. June 2025 weather analysis of my village. "
   ]
  },
  {
   "cell_type": "code",
   "execution_count": null,
   "id": "e269ebe8",
   "metadata": {},
   "outputs": [],
   "source": [
    "x = np.arange(1,31)\n",
    "y = np.arange(0,101,10)\n",
    "# Maximum temperatures for June 1-30 (°C)\n",
    "june_max = [37, 38, 37, 37, 37, 36, 37, 38, 38, 34, 32, 31, 35, 35, 34, \n",
    "            29, 31, 33, 34, 34, 34, 32, 33, 33, 33, 34, 34, 33, 32, 32]\n",
    "\n",
    "# Minimum temperatures for June 1-30 (°C) \n",
    "june_min = [27, 25, 28, 26, 26, 26, 26, 27, 27, 25, 26, 26, 26, 27, 26,\n",
    "            26, 27, 27, 27, 27, 27, 27, 27, 26, 25, 26, 26, 25, 25, 25]\n",
    "\n",
    "# Average temperatures for June 1-30 (°C)\n",
    "june_avg = []\n",
    "for temp_max , temp_min in zip(june_max,june_min):\n",
    "    june_avg.append((temp_max + temp_min) / 2)\n",
    "    \n",
    "humidity = [67, 58, 62, 67, 70, 75, 72, 70, 73, 83, 86, 86, 83, 94, \n",
    "            94, 98, 94, 93, 90, 91, 93, 91, 99, 99, 99, 95, 95, 95, 94, 94]\n",
    "\n",
    "rain_probability = [0, 0, 0, 0, 0, 0, 0, 0, 0, 0, 0, 0, 0, 43, 73, 47, 61, 40, \n",
    "                    36, 28, 26, 36, 64, 74, 51, 60, 60, 30, 30, 60]\n",
    "\n",
    "plt.figure(figsize=(20,10))\n",
    "\n",
    "\n",
    "\n",
    "plt.plot(x,june_max,\n",
    "    marker = 'o',\n",
    "    color = 'r',\n",
    "    label = \"Max Temp(°C)\"\n",
    ")\n",
    "for co_x,co_y in zip(x,june_max):\n",
    "    plt.text(\n",
    "        co_x,\n",
    "        co_y + 0.8,\n",
    "        f'{co_y}°C',    # Text to display\n",
    "        ha='center',  # Horizontal alignment\n",
    "        va='bottom',  # Vertical alignment\n",
    "        fontsize=8,\n",
    "        color = 'r'\n",
    ")\n",
    "\n",
    "plt.plot(x,june_min,\n",
    "    marker = 'o',\n",
    "    color = 'b',\n",
    "    label = \"Min Temp(°C)\"\n",
    ")\n",
    "for co_x,co_y in zip(x,june_min):\n",
    "    plt.text(\n",
    "        co_x,\n",
    "        co_y - 3.0,\n",
    "        f'{co_y}°C',    # Text to display\n",
    "        ha='center',  # Horizontal alignment\n",
    "        va='bottom',  # Vertical alignment\n",
    "        fontsize=8,\n",
    "        color = 'b'\n",
    ")\n",
    "\n",
    "plt.plot(x,june_avg,\n",
    "    marker = 'o',\n",
    "    color = 'g',\n",
    "    label = \"Avg Temp(°C)\",\n",
    "    linestyle = \":\"\n",
    ")\n",
    "\n",
    "bar_width = 0.3\n",
    "rain_probability_bars = plt.bar (\n",
    "    x + bar_width/2, rain_probability,\n",
    "    width = 0.3,\n",
    "    alpha = 0.2,\n",
    "    label = \"Rain Probability\"\n",
    ")\n",
    "for bar in rain_probability_bars:\n",
    "    height = bar.get_height()\n",
    "    plt.text(\n",
    "        bar.get_x() + bar.get_width() / 2,\n",
    "        height + 1,\n",
    "        f'{height:.1f}%',\n",
    "        va = 'bottom',\n",
    "        ha = 'center',\n",
    "        fontsize = 8,\n",
    "        rotation = 90,\n",
    "        color = 'b'\n",
    "    )\n",
    "humidity_bars = plt.bar (\n",
    "    x - bar_width/2, humidity,\n",
    "    width = 0.3,\n",
    "    alpha = 0.2,\n",
    "    color = 'r',\n",
    "    label = \"Humidity\"\n",
    ")\n",
    "\n",
    "for bar in humidity_bars:\n",
    "    height = bar.get_height()\n",
    "    plt.text(\n",
    "        bar.get_x() + bar.get_width() / 2,\n",
    "        height + 1,\n",
    "        f'{height:.1f}',\n",
    "        va = 'bottom',\n",
    "        ha = 'center',\n",
    "        fontsize = 8,\n",
    "        rotation = 90,\n",
    "        color = 'r'\n",
    "    )\n",
    "    \n",
    "plt.title(\"Weather Analysis Of Banatumbu\", fontsize = 18)\n",
    "plt.xlabel('Days', fontsize = 15)\n",
    "\n",
    "plt.grid(True, alpha = 0.6)\n",
    "plt.xticks(x, fontsize=10)\n",
    "plt.yticks(y, fontsize=10)\n",
    "\n",
    "plt.tight_layout(pad=10.0)  # Increase `pad` to add more white space\n",
    "plt.legend(labelcolor = ['r','b'])\n",
    "plt.show()"
   ]
  },
  {
   "cell_type": "markdown",
   "id": "109bf6a4",
   "metadata": {},
   "source": [
    "# Day 2 – Bar & Pie Charts"
   ]
  },
  {
   "cell_type": "code",
   "execution_count": null,
   "id": "4e528be0",
   "metadata": {},
   "outputs": [],
   "source": [
    "# Bar chart example\n",
    "countries = ['India', 'USA', 'Brazil', 'Russia', 'UK']\n",
    "population = [1380, 331, 212, 146, 67]\n",
    "\n",
    "plt.bar(countries, population, color='skyblue')\n",
    "plt.title(\"Population of Countries\")\n",
    "plt.xlabel(\"Country\")\n",
    "plt.ylabel(\"Population (millions)\")\n",
    "plt.show()\n",
    "\n",
    "# Pie chart example\n",
    "labels = ['Rent', 'Food', 'Transport', 'Other']\n",
    "sizes = [40, 30, 20, 10]\n",
    "plt.pie(sizes, labels=labels, autopct='%1.1f%%', startangle=140)\n",
    "plt.title(\"Monthly Spending Breakdown\")\n",
    "plt.show()"
   ]
  },
  {
   "cell_type": "markdown",
   "id": "1b14f281",
   "metadata": {},
   "source": [
    "### Learnign Pie Plot "
   ]
  },
  {
   "cell_type": "code",
   "execution_count": null,
   "id": "c579465b",
   "metadata": {},
   "outputs": [],
   "source": [
    "fig, ax = plt.subplots(figsize=(12,6))\n",
    "\n",
    "labels = ['Rent', 'Food', 'Transport', 'Other']\n",
    "sizes = [40, 30, 20, 10]\n",
    "\n",
    "ex = [0.0, 0.0, 0.2, 0.0]\n",
    "colors = ['red', 'green', 'blue', 'yellow']\n",
    "\n",
    "ax.pie(sizes, \n",
    "    labels=labels, \n",
    "    autopct='%0.2f%%', \n",
    "    startangle=90, \n",
    "    explode=ex, \n",
    "    colors=colors, \n",
    "    shadow=True, \n",
    "    radius=1.5,\n",
    "    textprops={'fontsize': 15, 'color':'black'},\n",
    "    counterclock=True,\n",
    "    wedgeprops={'linewidth': 5, 'alpha': 0.9},\n",
    "    rotatelabels=True\n",
    "    )\n",
    "\n",
    "plt.title('Expense Pie Chart', fontsize=20, fontweight='bold', color='black', y=1.3)\n",
    "plt.legend(loc='upper right', bbox_to_anchor=(0.8, 0.8, 0.5, 0.5), fontsize=12)\n",
    "plt.show()"
   ]
  },
  {
   "cell_type": "markdown",
   "id": "3d50fbb6",
   "metadata": {},
   "source": [
    "# Day 3 – Histograms & Scatter Plots"
   ]
  },
  {
   "cell_type": "code",
   "execution_count": null,
   "id": "5f3067d9",
   "metadata": {},
   "outputs": [],
   "source": [
    "import numpy as np\n",
    "\n",
    "# Histogram\n",
    "data = np.random.randn(1000)\n",
    "plt.hist(data, bins=30, color='purple', alpha=0.7)\n",
    "plt.title(\"Histogram of Random Data\")\n",
    "plt.show()\n",
    "\n",
    "# Scatter plot\n",
    "height = [150, 160, 165, 170, 175, 180]\n",
    "weight = [50, 55, 60, 65, 70, 75]\n",
    "\n",
    "plt.scatter(height, weight, color='green')\n",
    "plt.title(\"Height vs Weight\")\n",
    "plt.xlabel(\"Height (cm)\")\n",
    "plt.ylabel(\"Weight (kg)\")\n",
    "plt.grid(True)\n",
    "plt.show()"
   ]
  },
  {
   "cell_type": "markdown",
   "id": "41c675f8",
   "metadata": {},
   "source": [
    "# Day 4 – Subplots & Multiple Plots"
   ]
  },
  {
   "cell_type": "code",
   "execution_count": null,
   "id": "8a9ff9a6",
   "metadata": {},
   "outputs": [],
   "source": [
    "# Two subplots: Line and Bar\n",
    "plt.figure(figsize=(10, 4))\n",
    "\n",
    "plt.subplot(1, 2, 1)\n",
    "plt.plot([1, 2, 3, 4], [10, 20, 25, 30])\n",
    "plt.title(\"Line Plot\")\n",
    "\n",
    "plt.subplot(1, 2, 2)\n",
    "plt.bar(['A', 'B', 'C'], [5, 7, 3])\n",
    "plt.title(\"Bar Chart\")\n",
    "\n",
    "plt.tight_layout()\n",
    "plt.show()"
   ]
  },
  {
   "cell_type": "markdown",
   "id": "636f2a8f",
   "metadata": {},
   "source": [
    "# Day 5 – Styling & Plotting from DataFrame"
   ]
  },
  {
   "cell_type": "code",
   "execution_count": null,
   "id": "e2d8a5b3",
   "metadata": {},
   "outputs": [],
   "source": [
    "import pandas as pd\n",
    "\n",
    "# Load your own data here\n",
    "df = pd.read_csv(\"country_wise_latest.csv\")\n",
    "\n",
    "# Top 10 countries by confirmed cases\n",
    "top10 = df.nlargest(10, 'Confirmed')\n",
    "\n",
    "plt.figure(figsize=(10,6))\n",
    "plt.bar(top10['Country/Region'], top10['Confirmed'], color='orange')\n",
    "plt.title(\"Top 10 Countries by Confirmed Cases\")\n",
    "plt.xticks(rotation=45)\n",
    "plt.ylabel(\"Confirmed Cases\")\n",
    "plt.grid(axis='y')\n",
    "plt.show()"
   ]
  },
  {
   "cell_type": "markdown",
   "id": "3ca20508",
   "metadata": {},
   "source": [
    "# Stem Plot "
   ]
  },
  {
   "cell_type": "code",
   "execution_count": null,
   "id": "a3afe871",
   "metadata": {},
   "outputs": [],
   "source": [
    "np.random.seed(2)\n",
    "x = np.arange(1,31)\n",
    "y = np.random.randint(0,101,30)\n",
    "\n",
    "fig, ax = plt.subplots()\n",
    "\n",
    "fig.set_facecolor('black')\n",
    "ax.set_facecolor('black')\n",
    "\n",
    "for spines in ax.spines.values():\n",
    "    spines.set_color('white')\n",
    "\n",
    "ax.tick_params(axis='both', colors='white')    \n",
    "ax.stem(\n",
    "    x, y, \n",
    "    linefmt='r:', \n",
    "    basefmt='g',  # Removed the duplicate argument\n",
    "    markerfmt='go', \n",
    "    bottom=-5,\n",
    "    label='Random Data',\n",
    "    orientation='horizontal'\n",
    "    \n",
    ")\n",
    "plt.legend(labelcolor=['r','g'], fontsize=5)\n",
    "plt.show()"
   ]
  },
  {
   "cell_type": "markdown",
   "id": "fa249a8b",
   "metadata": {},
   "source": [
    "# Box Plot "
   ]
  },
  {
   "cell_type": "code",
   "execution_count": null,
   "id": "22cc86d2",
   "metadata": {},
   "outputs": [],
   "source": [
    "np.random.seed(0)\n",
    "var = np.random.randint(1,100,10)\n",
    "var1 = np.random.randint(1,50,10)\n",
    "print(var)\n",
    "print(var1)\n",
    "\n",
    "box = [var, var1]\n",
    "plt.boxplot(box, widths=0.1, patch_artist=False, showmeans=True)\n",
    "\n",
    "plt.show ()"
   ]
  },
  {
   "cell_type": "markdown",
   "id": "f8d56eac",
   "metadata": {},
   "source": [
    "# Stack Plot "
   ]
  },
  {
   "cell_type": "code",
   "execution_count": 20,
   "id": "6887b7b0",
   "metadata": {},
   "outputs": [
    {
     "data": {
      "image/png": "[encoded data removed]",
      "text/plain": [
       "<Figure size 640x480 with 1 Axes>"
      ]
     },
     "metadata": {},
     "output_type": "display_data"
    }
   ],
   "source": [
    "np.random.seed(0)\n",
    "var = np.random.randint(1,100,10)\n",
    "var1 = np.random.randint(1,50,10)\n",
    "\n",
    "plt.stackplot(var,var1)\n",
    "\n",
    "plt.show()"
   ]
  },
  {
   "cell_type": "markdown",
   "id": "615a67de",
   "metadata": {},
   "source": []
  },
  {
   "cell_type": "markdown",
   "id": "28c99b03",
   "metadata": {},
   "source": [
    "## Fill Between Plot "
   ]
  },
  {
   "cell_type": "code",
   "execution_count": 16,
   "id": "52ce80f2",
   "metadata": {},
   "outputs": [
    {
     "data": {
      "image/png": "[encoded data removed]",
      "text/plain": [
       "<Figure size 640x480 with 1 Axes>"
      ]
     },
     "metadata": {},
     "output_type": "display_data"
    }
   ],
   "source": [
    "from matplotlib.colors import LinearSegmentedColormap\n",
    "\n",
    "# Create a custom colormap\n",
    "cmap = LinearSegmentedColormap.from_list('custom', ['blue', 'green'])\n",
    "\n",
    "x = np.linspace(0, 2*np.pi, 100)\n",
    "fig,ax = plt.subplots()\n",
    "fig.set_facecolor('black')\n",
    "ax.set_facecolor('black')\n",
    "\n",
    "for spines in ax.spines.values():\n",
    "    spines.set_color('white')\n",
    "\n",
    "ax.tick_params(axis='both', colors='white')\n",
    "\n",
    "ax.plot(x, np.sin(x), color = 'g')\n",
    "ax.plot(x, np.cos(x), color = 'r')\n",
    "ax.fill_between(x, np.sin(x), np.cos(x), cmap = cmap , alpha = 1)\n",
    "plt.show()"
   ]
  },
  {
   "cell_type": "markdown",
   "id": "4836a003",
   "metadata": {},
   "source": [
    "### Filling Gradiant betweens the plot "
   ]
  },
  {
   "cell_type": "code",
   "execution_count": 23,
   "id": "f9e3241a",
   "metadata": {},
   "outputs": [
    {
     "data": {
      "image/png": "[encoded data removed]",
      "text/plain": [
       "<Figure size 1000x500 with 1 Axes>"
      ]
     },
     "metadata": {},
     "output_type": "display_data"
    }
   ],
   "source": [
    "import numpy as np\n",
    "import matplotlib.pyplot as plt\n",
    "from matplotlib.collections import PolyCollection\n",
    "\n",
    "# Sample data\n",
    "x = np.linspace(0, 10, 500)\n",
    "y1 = np.sin(x)\n",
    "y2 = np.cos(x)\n",
    "\n",
    "# Create vertices for filled area\n",
    "verts = []\n",
    "for i in range(len(x) - 1):\n",
    "    verts.append([\n",
    "        (x[i], y1[i]),\n",
    "        (x[i], y2[i]),\n",
    "        (x[i+1], y2[i+1]),\n",
    "        (x[i+1], y1[i+1])\n",
    "    ])\n",
    "\n",
    "# Create gradient color array (e.g. red to blue)\n",
    "colors = [(r/len(x), 0, b/len(x), 1) for r, b in zip(range(len(x)), reversed(range(len(x))))]\n",
    "\n",
    "# Create collection with gradient\n",
    "collection = PolyCollection(verts, facecolors=colors, edgecolors='none')\n",
    "\n",
    "# Plot\n",
    "fig, ax = plt.subplots(figsize=(10, 5))\n",
    "fig.set_facecolor('#1C1C2A')\n",
    "ax.set_facecolor('#1C1C2A')\n",
    "for spines in ax.spines.values():\n",
    "    spines.set_color('white')\n",
    "ax.tick_params(axis='both', colors='white')\n",
    "ax.add_collection(collection)\n",
    "ax.plot(x, y1, color='red', linewidth=1)\n",
    "ax.plot(x, y2, color='blue', linewidth=1)\n",
    "ax.set_xlim(x.min(), x.max())\n",
    "ax.set_ylim(min(y1.min() - 1 , y2.min() - 1 ), max(y1.max() + 1, y2.max() + 1))\n",
    "\n",
    "\n",
    "ax.set_aspect('auto')\n",
    "\n",
    "plt.tight_layout()\n",
    "plt.show()"
   ]
  }
 ],
 "metadata": {
  "kernelspec": {
   "display_name": "Python 3",
   "language": "python",
   "name": "python3"
  },
  "language_info": {
   "codemirror_mode": {
    "name": "ipython",
    "version": 3
   },
   "file_extension": ".py",
   "mimetype": "text/x-python",
   "name": "python",
   "nbconvert_exporter": "python",
   "pygments_lexer": "ipython3",
   "version": "3.11.9"
  }
 },
 "nbformat": 4,
 "nbformat_minor": 5
}
